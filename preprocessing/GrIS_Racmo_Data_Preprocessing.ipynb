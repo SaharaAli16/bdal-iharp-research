{
  "cells": [
    {
      "cell_type": "markdown",
      "source": [
        "### Readme\n",
        "This code reads multiple nc files from RACMO data, reads topography values from RACMO icesheet mask, and applies binary mask to extract snowmelt data at surface elevation less than 2000m.\n",
        "Final outcome is the spatial sum -> monthly time-series"
      ],
      "metadata": {
        "id": "AN775kfAgP1B"
      },
      "id": "AN775kfAgP1B"
    },
    {
      "cell_type": "code",
      "source": [
        "#while True:pass"
      ],
      "metadata": {
        "id": "LvlqylqNjSQF"
      },
      "id": "LvlqylqNjSQF",
      "execution_count": null,
      "outputs": []
    },
    {
      "cell_type": "markdown",
      "id": "67c0d063-8345-403f-872a-5ff77df58706",
      "metadata": {
        "id": "67c0d063-8345-403f-872a-5ff77df58706"
      },
      "source": [
        "### Read RACMO Snowmelt and Topography Data"
      ]
    },
    {
      "cell_type": "code",
      "source": [
        "pip install netCDF4 regionmask"
      ],
      "metadata": {
        "id": "TaDsgBRMYSYC"
      },
      "id": "TaDsgBRMYSYC",
      "execution_count": null,
      "outputs": []
    },
    {
      "cell_type": "code",
      "source": [
        "import netCDF4\n",
        "import matplotlib.pyplot as plt\n",
        "import datetime\n",
        "import sys\n",
        "import numpy as np\n",
        "import pandas as pd\n",
        "from netCDF4 import Dataset"
      ],
      "metadata": {
        "id": "m54wZc7oY1k6"
      },
      "id": "m54wZc7oY1k6",
      "execution_count": null,
      "outputs": []
    },
    {
      "cell_type": "code",
      "execution_count": null,
      "id": "5e65426a-1e10-4e12-96b7-c6dad5337766",
      "metadata": {
        "id": "5e65426a-1e10-4e12-96b7-c6dad5337766"
      },
      "outputs": [],
      "source": [
        "import xarray as xr\n",
        "import geopandas as gp\n",
        "import regionmask\n",
        "import shapefile as shp"
      ]
    },
    {
      "cell_type": "markdown",
      "source": [
        "### Creating Binary Mask from RACMO Topography Data"
      ],
      "metadata": {
        "id": "1Oa0_Y46cfiF"
      },
      "id": "1Oa0_Y46cfiF"
    },
    {
      "cell_type": "code",
      "source": [
        "file = '/content/snowmelt.1979_JAS.BN_RACMO2.3p2_FGRN055_1km.DD.nc'\n",
        "file2 = '/content/Icemask_Topo_Iceclasses_lon_lat_average_1km.nc'\n",
        "#file = '/content/ERA5land_snowmelt_JJA_1979_2021_monthly.nc'\n",
        "\n",
        "df=Dataset(file,'r')\n",
        "print(df.variables.keys()) # get all variable names\n",
        "\n",
        "df2=Dataset(file2,'r')\n",
        "print(df2.variables.keys()) # get all variable names"
      ],
      "metadata": {
        "id": "Xv921kD6s270",
        "colab": {
          "base_uri": "https://localhost:8080/"
        },
        "outputId": "731798b9-a225-4908-add8-8496dcf3ec30"
      },
      "id": "Xv921kD6s270",
      "execution_count": null,
      "outputs": [
        {
          "output_type": "stream",
          "name": "stdout",
          "text": [
            "dict_keys(['time', 'x', 'y', 'LON', 'LAT', 'snowmeltcorr'])\n"
          ]
        }
      ]
    },
    {
      "cell_type": "code",
      "source": [
        "topo = np.array(df2.variables['Topography'][:])"
      ],
      "metadata": {
        "id": "tasWGVuKZUQ1"
      },
      "id": "tasWGVuKZUQ1",
      "execution_count": null,
      "outputs": []
    },
    {
      "cell_type": "code",
      "source": [
        "print(topo.shape)\n",
        "np.save(\"RACMO_GrIS_1km_Topography.npy\", topo)"
      ],
      "metadata": {
        "colab": {
          "base_uri": "https://localhost:8080/"
        },
        "id": "ckBPAjbkZa2o",
        "outputId": "dc9c20ac-4649-4783-fe68-61bb99524924"
      },
      "id": "ckBPAjbkZa2o",
      "execution_count": null,
      "outputs": [
        {
          "output_type": "stream",
          "name": "stdout",
          "text": [
            "(2700, 1496)\n"
          ]
        }
      ]
    },
    {
      "cell_type": "code",
      "source": [
        "cond1 = topo > 0\n",
        "cond2 = topo < 2000 #ablation (melt) area can be found in regions lower than 2000m surface elevation\n",
        "RACMO_ablation_area = np.where(cond1 & cond2, 1, 0)"
      ],
      "metadata": {
        "id": "dp8SfahKZ7XW"
      },
      "id": "dp8SfahKZ7XW",
      "execution_count": null,
      "outputs": []
    },
    {
      "cell_type": "code",
      "source": [
        "np.save(\"RACMO_GrIS_1km_Ablation_area_mask.npy\", RACMO_ablation_area)"
      ],
      "metadata": {
        "id": "MdRm-Zo8aIR-"
      },
      "id": "MdRm-Zo8aIR-",
      "execution_count": null,
      "outputs": []
    },
    {
      "cell_type": "markdown",
      "source": [
        "## Plotting for Verification"
      ],
      "metadata": {
        "id": "U_hEzCWp4fQd"
      },
      "id": "U_hEzCWp4fQd"
    },
    {
      "cell_type": "code",
      "source": [
        "import cartopy.crs as ccrs\n",
        "import matplotlib.pyplot as plt\n",
        "\n",
        "#real_ice[0] == January 2014\n",
        "fig = plt.figure(figsize=(6, 6))\n",
        "ax = plt.axes(projection=ccrs.NorthPolarStereo(central_longitude=0))\n",
        "cs = ax.coastlines(resolution='110m', linewidth=0.5)\n",
        "ax.gridlines()\n",
        "ax.set_extent([-180, 180, 60, 90], crs=ccrs.PlateCarree())\n",
        "kw = dict(central_latitude=90, central_longitude=-45, true_scale_latitude=70)\n",
        "cs = ax.pcolormesh(x, y, sm[2000], cmap=plt.cm.Blues_r,\n",
        "                   transform=ccrs.Stereographic(**kw))\n",
        "cbar = plt.colorbar(cs)\n",
        "plt.title(\"Ablation Area\")"
      ],
      "metadata": {
        "id": "GmnQqBRd4hZU"
      },
      "id": "GmnQqBRd4hZU",
      "execution_count": null,
      "outputs": []
    },
    {
      "cell_type": "markdown",
      "source": [
        "### Reading one file of Data"
      ],
      "metadata": {
        "id": "bWFhfnpJdmVl"
      },
      "id": "bWFhfnpJdmVl"
    },
    {
      "cell_type": "code",
      "source": [
        "import netCDF4\n",
        "import numpy as np\n",
        "import matplotlib.pyplot as plt\n",
        "import datetime\n",
        "\n",
        "class ERA5_data(object):\n",
        "    def __init__(self,fn):\n",
        "        import netCDF4 as nc\n",
        "        nc_fid = nc.Dataset(fn,'r')\n",
        "        nc_fid.set_auto_mask(False)\n",
        "        self.t0   = datetime.datetime(1979,1,1)\n",
        "        self.time = nc_fid.variables['time'][:]\n",
        "        hours = []\n",
        "        for t in self.time:\n",
        "            hours.append(self.t0 +  datetime.timedelta(float(t)))\n",
        "        self.hours = hours\n",
        "        self.lon  = nc_fid.variables['LON'][:]#['longitude'][:] #* units(?)\n",
        "        self.lat  = nc_fid.variables['LAT'][:]#['latitude'][:] #* units(?)\n",
        "        self.data = nc_fid.variables['snowmeltcorr'][:]\n",
        "        #self.data = nc_fid.variables['smlt'][:]\n",
        "        fill=nc_fid.variables['snowmeltcorr'].missing_value\n",
        "        #fill=nc_fid.variables['smlt'].missing_value\n",
        "        self.data[np.where(self.data==fill)]=np.nan\n",
        "\n",
        "        nc_fid.close()"
      ],
      "metadata": {
        "id": "p_XM02-XZG6S"
      },
      "id": "p_XM02-XZG6S",
      "execution_count": null,
      "outputs": []
    },
    {
      "cell_type": "code",
      "source": [
        "ERA5 = ERA5_data('/content/snowmelt.1979_JAS.BN_RACMO2.3p2_FGRN055_1km.DD.nc')\n",
        "\n",
        "print('number of hours:', len(ERA5.hours))\n",
        "print('number of latitude points:', len(ERA5.lat))\n",
        "print('number of longitude points:', len(ERA5.lon))\n",
        "print('dimensions of the data',ERA5.data.shape)"
      ],
      "metadata": {
        "colab": {
          "base_uri": "https://localhost:8080/"
        },
        "id": "l_JHpI5mtDBg",
        "outputId": "4eeae6b5-e2ae-4471-b8cb-acbf3a7be56e"
      },
      "id": "l_JHpI5mtDBg",
      "execution_count": null,
      "outputs": [
        {
          "output_type": "stream",
          "name": "stdout",
          "text": [
            "number of hours: 92\n",
            "number of latitude points: 2700\n",
            "number of longitude points: 2700\n",
            "dimensions of the data (92, 2700, 1496)\n"
          ]
        }
      ]
    },
    {
      "cell_type": "code",
      "source": [
        "#OPTIONAL: Creating time-series of RACMO ablation area mask\n",
        "timesteps = len(ERA5.hours)\n",
        "ablation_mask_ts = np.tile(RACMO_ablation_area,(timesteps,2700,1496))\n",
        "abl_snow = np.multiply(ERA5.data, RACMO_ablation_area)"
      ],
      "metadata": {
        "id": "O82GylQybpX0"
      },
      "id": "O82GylQybpX0",
      "execution_count": null,
      "outputs": []
    },
    {
      "cell_type": "markdown",
      "source": [
        "### Reading all NC files and combining data into one Numpy\n",
        "Run this code on a server where all files are placed"
      ],
      "metadata": {
        "id": "Wc3b3-yQdqzi"
      },
      "id": "Wc3b3-yQdqzi"
    },
    {
      "cell_type": "code",
      "source": [
        "import xarray as xr\n",
        "import numpy as np\n",
        "\n",
        "\n",
        "path = \"/umbc/rs/iharp/common/causality/data/greenland/racmo_data/*.nc\" #replace with path where all files are kept\n",
        "snow_data = xr.open_mfdataset(path, concat_dim = \"time\", chunks = \"auto\", combine = \"nested\",drop_variables =['time','x','y','LAT','LON'])\n",
        "snow = np.array(snow_data.to_array()) #this creates one additional dimension at the beginning\n",
        "snow = snow.reshape(3956, 2700, 1496) #reshape to get rid of the additional dimension, 3956 is the number of timesteps in combined data\n",
        "np.save(\"/umbc/rs/iharp/common/causality/data/greenland/racmo_data/RACMO_snowmelt_JAS_daily_1979_2021.npy\",snow)"
      ],
      "metadata": {
        "id": "6Me99--vd0Nn"
      },
      "id": "6Me99--vd0Nn",
      "execution_count": null,
      "outputs": []
    },
    {
      "cell_type": "markdown",
      "source": [
        "### Taking Monthly Means of RACMO Data"
      ],
      "metadata": {
        "id": "VBtWe6AOk1R8"
      },
      "id": "VBtWe6AOk1R8"
    },
    {
      "cell_type": "code",
      "source": [
        "#Monthly Spatiotemporal Data\n",
        "#Change data and storage path according to server\n",
        "\n",
        "import numpy as np\n",
        "\n",
        "data = np.load(\"/umbc/rs/iharp/common/causality/data/greenland/racmo_data/RACMO_snowmelt_daily_JJA_1979_2021.npy\")\n",
        "#Monthly Data\n",
        "# Create lists of days per month\n",
        "data = summer_days\n",
        "months = [30, 31, 31]\n",
        "month_lst = []\n",
        "\n",
        "# Create a full list of days per month for each month in 1979-2021\n",
        "for i in range(1979, 2022):\n",
        "    month_lst.append(months)\n",
        "month_lst = np.array(month_lst).reshape(-1)\n",
        "\n",
        "# Iterate through each variable add to the final array.\n",
        "final_arr = np.zeros((len(month_lst),2700, 1496))\n",
        "var_idx = 0\n",
        "for key in range(1):\n",
        "\tday_sum = 0\n",
        "\tvar = data[:,:,:]\n",
        "\tvar_arr = np.zeros((len(month_lst),2700, 1496))\n",
        "\t#print(var.shape)\n",
        "\t#print(var_arr.shape)\n",
        "\tfor i in range(len(month_lst)):\n",
        "\t\tvar_arr[i,:,:] = np.nanmean(var[day_sum:(day_sum + month_lst[i])], axis=0)\n",
        "\t\tif i % 3 == 0:\n",
        "\t\t\tprint(day_sum)\n",
        "\t\tday_sum = day_sum + month_lst[i]\n",
        "\tday_sum = 0\n",
        "\tfinal_arr[:,:,:] = var_arr # Add variable monthly means to final array.\n",
        "\tvar_idx += 1\n",
        "print(final_arr.shape)\n",
        "\n",
        "# Save final data array to a numpy array.\n",
        "print(final_arr.shape)\n",
        "monthly_data = np.save(\"/umbc/rs/iharp/common/causality/data/greenland/racmo_data/RACMO_snowmelt_monthly_JJA_1979_2021.npy\",final_arr)"
      ],
      "metadata": {
        "id": "ifFTFMDZk3Zp"
      },
      "id": "ifFTFMDZk3Zp",
      "execution_count": null,
      "outputs": []
    },
    {
      "cell_type": "markdown",
      "source": [
        "### Multiple monthly data with Topography mask\n",
        "This will not need timeseries of mask"
      ],
      "metadata": {
        "id": "RzRG_t1CfGSY"
      },
      "id": "RzRG_t1CfGSY"
    },
    {
      "cell_type": "code",
      "source": [
        "snow_masked = np.array([np.multiply(snow[i,:,:],mask.reshape(1,2700,1496)) for i in range(129)])\n"
      ],
      "metadata": {
        "id": "ldun7c3GfF4Z"
      },
      "id": "ldun7c3GfF4Z",
      "execution_count": null,
      "outputs": []
    },
    {
      "cell_type": "markdown",
      "source": [
        "### Take Spatial sum of data for getting Total Snowmelt"
      ],
      "metadata": {
        "id": "LgCPTqaLfY0-"
      },
      "id": "LgCPTqaLfY0-"
    },
    {
      "cell_type": "code",
      "source": [
        "tot_monthly_ts = np.array([np.nansum(snow_masked[i,:,:]) for i in range(129)])\n",
        "print(tot_monthly_ts.shape)"
      ],
      "metadata": {
        "id": "B0fJ5ueKfe2o"
      },
      "id": "B0fJ5ueKfe2o",
      "execution_count": null,
      "outputs": []
    },
    {
      "cell_type": "markdown",
      "source": [
        "### Store Monthly time-series"
      ],
      "metadata": {
        "id": "PISkIguTfjqd"
      },
      "id": "PISkIguTfjqd"
    },
    {
      "cell_type": "code",
      "source": [
        "np.save(\"/umbc/rs/iharp/common/causality/data/greenland/racmo_data/RACMO_snowmelt_JAS_monthly_ts_1979_2021.npy\",tot_monthly_ts)"
      ],
      "metadata": {
        "id": "kysHhMMHeXJq"
      },
      "id": "kysHhMMHeXJq",
      "execution_count": null,
      "outputs": []
    },
    {
      "cell_type": "code",
      "source": [
        "import pandas as pd\n",
        "dict = {'RACMO_snow':tot_monthly_ts}\n",
        "data_m = pd.DataFrame(dict)\n",
        "data_m.to_csv('/umbc/rs/iharp/common/causality/data/greenland/racmo_data/RACMO_snowmelt_JAS_monthly_ts_1979_2021.csv',header=True, index=False)"
      ],
      "metadata": {
        "id": "0i1QtF2AfsEu"
      },
      "id": "0i1QtF2AfsEu",
      "execution_count": null,
      "outputs": []
    },
    {
      "cell_type": "markdown",
      "source": [
        "# Old Analysis"
      ],
      "metadata": {
        "id": "dw0O2gCsf8V2"
      },
      "id": "dw0O2gCsf8V2"
    },
    {
      "cell_type": "code",
      "source": [
        "#Extras\n",
        "era5_lon = ERA5.lon\n",
        "era5_lat = ERA5.lat"
      ],
      "metadata": {
        "id": "8XQLTzh8Vp9E"
      },
      "id": "8XQLTzh8Vp9E",
      "execution_count": null,
      "outputs": []
    },
    {
      "cell_type": "code",
      "source": [
        "GrIS_shp2 = gp.read_file('GRE_Basins_IMBIE2_v1.3.shp')\n",
        "era5_GrIS_basin_mask2 = regionmask.mask_geopandas(GrIS_shp2['geometry'][2:],era5_lon, era5_lat, overlap=False)\n",
        "print(GrIS_shp2.head(2))\n",
        "#era5_GrIS_mask2 = xr.where(era5_GrIS_basin_mask2>0, 1, 0)#.values"
      ],
      "metadata": {
        "colab": {
          "base_uri": "https://localhost:8080/"
        },
        "id": "lc8yaWQXYLNS",
        "outputId": "12f28bff-cb7a-4c4d-d0da-d44cd42e5c05"
      },
      "id": "lc8yaWQXYLNS",
      "execution_count": null,
      "outputs": [
        {
          "output_type": "stream",
          "name": "stdout",
          "text": [
            "  SUBREGION1                                           geometry\n",
            "0    ICE_CAP  POLYGON ((-28.35064 71.11642, -28.33730 71.120...\n",
            "1    ICE_CAP  POLYGON ((-21.74519 79.34692, -21.74365 79.347...\n"
          ]
        },
        {
          "output_type": "stream",
          "name": "stderr",
          "text": [
            "/usr/local/lib/python3.10/dist-packages/regionmask/core/_deprecate.py:108: UserWarning: No gridpoint belongs to any region. Returning an all-NaN mask.\n",
            "  return func(*args, **kwargs)\n"
          ]
        }
      ]
    },
    {
      "cell_type": "code",
      "source": [
        "era5_GrIS_basin_mask2 = regionmask.mask_geopandas(GrIS_shp2[(GrIS_shp2.SUBREGION1=='NW') | (GrIS_shp2.SUBREGION1=='NE') | (GrIS_shp2.SUBREGION1=='SE') | (GrIS_shp2.SUBREGION1=='SW') | (GrIS_shp2.SUBREGION1=='CW') | (GrIS_shp2.SUBREGION1=='NO')]['geometry'], era5_lon, era5_lat) #Greenland subregions mask\n",
        "era5_GrIS_mask2 = xr.where(era5_GrIS_basin_mask2>0, 1, 0)#only Greenland binary mask"
      ],
      "metadata": {
        "id": "hNilUOhSaeEL",
        "colab": {
          "base_uri": "https://localhost:8080/"
        },
        "outputId": "b52e05d4-3f40-4f33-8a73-c3cffbafe706"
      },
      "id": "hNilUOhSaeEL",
      "execution_count": null,
      "outputs": [
        {
          "output_type": "stream",
          "name": "stderr",
          "text": [
            "/usr/local/lib/python3.10/dist-packages/regionmask/core/_deprecate.py:108: UserWarning: No gridpoint belongs to any region. Returning an all-NaN mask.\n",
            "  return func(*args, **kwargs)\n"
          ]
        }
      ]
    },
    {
      "cell_type": "code",
      "source": [
        "era5_GrIS_basin_mask2.plot()"
      ],
      "metadata": {
        "colab": {
          "base_uri": "https://localhost:8080/",
          "height": 468
        },
        "id": "vCssVAtHF8sD",
        "outputId": "8d6cd9b7-d2c8-4ee7-e8a1-d0ec6568fe25"
      },
      "id": "vCssVAtHF8sD",
      "execution_count": null,
      "outputs": [
        {
          "output_type": "execute_result",
          "data": {
            "text/plain": [
              "<matplotlib.collections.QuadMesh at 0x7c5657fd3580>"
            ]
          },
          "metadata": {},
          "execution_count": 13
        },
        {
          "output_type": "display_data",
          "data": {
            "text/plain": [
              "<Figure size 640x480 with 2 Axes>"
            ],
            "image/png": "[encoded data removed]"
          },
          "metadata": {}
        }
      ]
    },
    {
      "cell_type": "code",
      "execution_count": null,
      "id": "75b479a8-158a-4e69-8745-2e53ae234db0",
      "metadata": {
        "id": "75b479a8-158a-4e69-8745-2e53ae234db0",
        "outputId": "cea27b2c-9ade-47bd-df75-144327b862f8",
        "colab": {
          "base_uri": "https://localhost:8080/",
          "height": 455
        }
      },
      "outputs": [
        {
          "output_type": "display_data",
          "data": {
            "text/plain": [
              "<Figure size 640x480 with 2 Axes>"
            ],
            "image/png": "[encoded data removed]"
          },
          "metadata": {}
        }
      ],
      "source": [
        "era5_GrIS_mask3 = xr.where(era5_GrIS_basin_mask2==51, 1, 0)\n",
        "era5_GrIS_mask3.plot();"
      ]
    },
    {
      "cell_type": "markdown",
      "source": [
        "### Storing Mask as Numpy"
      ],
      "metadata": {
        "id": "xMcXYMf2XKUN"
      },
      "id": "xMcXYMf2XKUN"
    },
    {
      "cell_type": "code",
      "source": [
        "era5_basin_mask = era5_GrIS_basin_mask2.to_numpy()"
      ],
      "metadata": {
        "id": "144Rn7UXXNTw"
      },
      "id": "144Rn7UXXNTw",
      "execution_count": null,
      "outputs": []
    },
    {
      "cell_type": "code",
      "source": [
        "era5_basin_mask.shape"
      ],
      "metadata": {
        "colab": {
          "base_uri": "https://localhost:8080/"
        },
        "id": "2Mb-zfajYYU_",
        "outputId": "1343cf97-6b94-4460-9d4c-9b0a2968cde1"
      },
      "id": "2Mb-zfajYYU_",
      "execution_count": null,
      "outputs": [
        {
          "output_type": "execute_result",
          "data": {
            "text/plain": [
              "(97, 253)"
            ]
          },
          "metadata": {},
          "execution_count": 69
        }
      ]
    },
    {
      "cell_type": "code",
      "source": [
        "m_basin_mask = np.tile(era5_basin_mask, (129, 1, 1)) #turn mask into time-series\n",
        "print(m_basin_mask.shape)"
      ],
      "metadata": {
        "colab": {
          "base_uri": "https://localhost:8080/"
        },
        "id": "U5eaThHoZB0a",
        "outputId": "de59cee4-4169-4376-cf44-1747e6443d90"
      },
      "id": "U5eaThHoZB0a",
      "execution_count": null,
      "outputs": [
        {
          "output_type": "stream",
          "name": "stdout",
          "text": [
            "(129, 97, 253)\n"
          ]
        }
      ]
    },
    {
      "cell_type": "code",
      "source": [
        "#Creating Regional Masks\n",
        "nw = np.where(m_basin_mask == 51,1,0)#NW\n",
        "cw = np.where(m_basin_mask == 52,1,0)#CW\n",
        "sw = np.where(m_basin_mask == 53,1,0) #SW\n",
        "se = np.where(m_basin_mask == 54,1,0) #SE\n",
        "ne = np.where(m_basin_mask == 55,1,0)#NE\n",
        "no = np.where(m_basin_mask == 56,1,0) #NO"
      ],
      "metadata": {
        "id": "aZf7WVy_EYzW"
      },
      "id": "aZf7WVy_EYzW",
      "execution_count": null,
      "outputs": []
    },
    {
      "cell_type": "code",
      "source": [
        "print(nw.shape)"
      ],
      "metadata": {
        "colab": {
          "base_uri": "https://localhost:8080/"
        },
        "id": "Q0CKL56JgpQo",
        "outputId": "cce14ffc-cf95-4dc0-bb40-0bc6339668ed"
      },
      "id": "Q0CKL56JgpQo",
      "execution_count": null,
      "outputs": [
        {
          "output_type": "stream",
          "name": "stdout",
          "text": [
            "(129, 97, 253)\n"
          ]
        }
      ]
    },
    {
      "cell_type": "markdown",
      "source": [
        "## Dividing Data into Sub-regions"
      ],
      "metadata": {
        "id": "NAvZMMzXbf1W"
      },
      "id": "NAvZMMzXbf1W"
    },
    {
      "cell_type": "code",
      "source": [
        "## Reading data from numpy\n",
        "temp = np.load('/content/ERA5_temp_700hPa_Greenland_Jun_Aug_1979_2021_monthly.npy')"
      ],
      "metadata": {
        "id": "sumxkiM4u5dg"
      },
      "id": "sumxkiM4u5dg",
      "execution_count": null,
      "outputs": []
    },
    {
      "cell_type": "code",
      "source": [
        "print(temp.shape)"
      ],
      "metadata": {
        "colab": {
          "base_uri": "https://localhost:8080/"
        },
        "id": "z3dkUt5xvD61",
        "outputId": "10c4971e-4e58-433a-dead-bd71a7d1bfca"
      },
      "id": "z3dkUt5xvD61",
      "execution_count": null,
      "outputs": [
        {
          "output_type": "stream",
          "name": "stdout",
          "text": [
            "(129, 97, 253)\n"
          ]
        }
      ]
    },
    {
      "cell_type": "code",
      "source": [
        "\"\"\"\n",
        "#Reading data from NC\n",
        "data_nw = np.copy(ERA5.data)\n",
        "data_cw = np.copy(ERA5.data)\n",
        "data_sw = np.copy(ERA5.data)\n",
        "data_se = np.copy(ERA5.data)\n",
        "data_ne = np.copy(ERA5.data)\n",
        "data_no = np.copy(ERA5.data)\n",
        "print(data_nw.shape)\n",
        "\"\"\""
      ],
      "metadata": {
        "colab": {
          "base_uri": "https://localhost:8080/"
        },
        "id": "b1GLSeB4bfRS",
        "outputId": "7a1e43b5-1d25-4c29-aa4e-08e32ea92f56"
      },
      "id": "b1GLSeB4bfRS",
      "execution_count": null,
      "outputs": [
        {
          "output_type": "stream",
          "name": "stdout",
          "text": [
            "(129, 241, 631)\n"
          ]
        }
      ]
    },
    {
      "cell_type": "code",
      "source": [
        "#Reading data from numpy\n",
        "data_nw = np.copy(temp)\n",
        "data_cw = np.copy(temp)\n",
        "data_sw = np.copy(temp)\n",
        "data_se = np.copy(temp)\n",
        "data_ne = np.copy(temp)\n",
        "data_no = np.copy(temp)"
      ],
      "metadata": {
        "id": "SW7rmwhJyVt7"
      },
      "id": "SW7rmwhJyVt7",
      "execution_count": null,
      "outputs": []
    },
    {
      "cell_type": "code",
      "source": [
        "data_nw_masked = np.multiply(data_nw, nw)\n",
        "data_cw_masked = np.multiply(data_cw, cw)\n",
        "data_sw_masked = np.multiply(data_sw, sw)\n",
        "data_se_masked = np.multiply(data_se, se)\n",
        "data_ne_masked = np.multiply(data_ne, ne)\n",
        "data_no_masked = np.multiply(data_no, no)"
      ],
      "metadata": {
        "id": "_o1Jcelhc117"
      },
      "id": "_o1Jcelhc117",
      "execution_count": null,
      "outputs": []
    },
    {
      "cell_type": "markdown",
      "source": [
        "### Creating Regional Time-Series"
      ],
      "metadata": {
        "id": "hMx8k6JToz88"
      },
      "id": "hMx8k6JToz88"
    },
    {
      "cell_type": "markdown",
      "source": [
        "Run this only for snowmelt data to calculate cumulative snow melt"
      ],
      "metadata": {
        "id": "9XugO20qpdt2"
      },
      "id": "9XugO20qpdt2"
    },
    {
      "cell_type": "code",
      "source": [
        "\"\"\"\n",
        "tot_nw_data = np.array([np.nansum(data_nw_masked[i,:,:]) for i in range(129)])\n",
        "tot_sw_data = np.array([np.nansum(data_sw_masked[i,:,:]) for i in range(129)])\n",
        "tot_cw_data = np.array([np.nansum(data_cw_masked[i,:,:]) for i in range(129)])\n",
        "tot_se_data = np.array([np.nansum(data_se_masked[i,:,:]) for i in range(129)])\n",
        "tot_ne_data = np.array([np.nansum(data_ne_masked[i,:,:]) for i in range(129)])\n",
        "tot_no_data = np.array([np.nansum(data_no_masked[i,:,:]) for i in range(129)])\n",
        "\"\"\""
      ],
      "metadata": {
        "id": "5UDTK__foy5u"
      },
      "id": "5UDTK__foy5u",
      "execution_count": null,
      "outputs": []
    },
    {
      "cell_type": "markdown",
      "source": [
        "Run this for other temp data to calculate mean values"
      ],
      "metadata": {
        "id": "QY60U-JDzLFB"
      },
      "id": "QY60U-JDzLFB"
    },
    {
      "cell_type": "code",
      "source": [
        "tot_nw_data = np.array([np.nanmean(data_nw_masked[i,:,:]) for i in range(129)])\n",
        "tot_sw_data = np.array([np.nanmean(data_sw_masked[i,:,:]) for i in range(129)])\n",
        "tot_cw_data = np.array([np.nanmean(data_cw_masked[i,:,:]) for i in range(129)])\n",
        "tot_se_data = np.array([np.nanmean(data_se_masked[i,:,:]) for i in range(129)])\n",
        "tot_ne_data = np.array([np.nanmean(data_ne_masked[i,:,:]) for i in range(129)])\n",
        "tot_no_data = np.array([np.nanmean(data_no_masked[i,:,:]) for i in range(129)])"
      ],
      "metadata": {
        "id": "-Jr0lKwly-j1"
      },
      "id": "-Jr0lKwly-j1",
      "execution_count": null,
      "outputs": []
    },
    {
      "cell_type": "code",
      "source": [
        "print(tot_nw_data)\n",
        "print(tot_sw_data)\n",
        "print(tot_cw_data)\n",
        "print(tot_se_data)\n",
        "print(tot_ne_data)\n",
        "print(tot_no_data)"
      ],
      "metadata": {
        "id": "Pu-1ug9CqFaA"
      },
      "id": "Pu-1ug9CqFaA",
      "execution_count": null,
      "outputs": []
    },
    {
      "cell_type": "markdown",
      "source": [
        "### Storing Regional Data"
      ],
      "metadata": {
        "id": "8ebOJwgWchgA"
      },
      "id": "8ebOJwgWchgA"
    },
    {
      "cell_type": "code",
      "source": [
        "\"\"\"\n",
        "np.save('ERA5land_snowmelt_JJA_1979_2021_nw.npy',tot_nw_data)\n",
        "np.save('ERA5land_snowmelt_JJA_1979_2021_sw.npy',tot_sw_data)\n",
        "np.save('ERA5land_snowmelt_JJA_1979_2021_cw.npy',tot_cw_data)\n",
        "np.save('ERA5land_snowmelt_JJA_1979_2021_ne.npy',tot_ne_data)\n",
        "np.save('ERA5land_snowmelt_JJA_1979_2021_se.npy',tot_se_data)\n",
        "np.save('ERA5land_snowmelt_JJA_1979_2021_no.npy',tot_no_data)\n",
        "\"\"\""
      ],
      "metadata": {
        "id": "-mH7mqn0cj3V"
      },
      "id": "-mH7mqn0cj3V",
      "execution_count": null,
      "outputs": []
    },
    {
      "cell_type": "code",
      "source": [
        "np.save('ERA5_700hPa_JJA_1979_2021_nw.npy',tot_nw_data)\n",
        "np.save('ERA5_700hPa_JJA_1979_2021_sw.npy',tot_sw_data)\n",
        "np.save('ERA5_700hPa_JJA_1979_2021_cw.npy',tot_cw_data)\n",
        "np.save('ERA5_700hPa_JJA_1979_2021_ne.npy',tot_ne_data)\n",
        "np.save('ERA5_700hPa_JJA_1979_2021_se.npy',tot_se_data)\n",
        "np.save('ERA5_700hPa_JJA_1979_2021_no.npy',tot_no_data)"
      ],
      "metadata": {
        "id": "OWG4eMRCzcEZ"
      },
      "id": "OWG4eMRCzcEZ",
      "execution_count": null,
      "outputs": []
    },
    {
      "cell_type": "markdown",
      "id": "425c202e-e4ac-455c-94e6-25f845598e50",
      "metadata": {
        "id": "425c202e-e4ac-455c-94e6-25f845598e50"
      },
      "source": [
        "## Read Greenland basin boundaries"
      ]
    },
    {
      "cell_type": "markdown",
      "id": "709b28d0-93b6-408d-a486-7d33beada8eb",
      "metadata": {
        "id": "709b28d0-93b6-408d-a486-7d33beada8eb"
      },
      "source": [
        "### (1) 7 basins"
      ]
    },
    {
      "cell_type": "markdown",
      "id": "e16c8424-fb3c-4be9-afbc-c9bbe213bca7",
      "metadata": {
        "id": "e16c8424-fb3c-4be9-afbc-c9bbe213bca7"
      },
      "source": [
        "Reference: https://www.pnas.org/doi/10.1073/pnas.1904242116"
      ]
    },
    {
      "cell_type": "code",
      "execution_count": null,
      "id": "ae7bc1f9-3c12-42f3-af57-0397b31ce329",
      "metadata": {
        "id": "ae7bc1f9-3c12-42f3-af57-0397b31ce329"
      },
      "outputs": [],
      "source": [
        "## Read basin boundaries\n",
        "basin_boundaries = xr.open_dataset('/glade/work/ziqiyin/data/GrIS_7basins/Mouginot2019_basins_1km.nc')['Mouginot_basins']"
      ]
    },
    {
      "cell_type": "code",
      "execution_count": null,
      "id": "95387148-8d36-4e19-ad3a-efe34e8681bf",
      "metadata": {
        "id": "95387148-8d36-4e19-ad3a-efe34e8681bf",
        "outputId": "3c7e4d32-bfe2-415d-d67b-9abeee6b0b2c"
      },
      "outputs": [
        {
          "data": {
            "image/png": "[encoded data removed]",
            "text/plain": [
              "<Figure size 432x288 with 2 Axes>"
            ]
          },
          "metadata": {
            "needs_background": "light"
          },
          "output_type": "display_data"
        }
      ],
      "source": [
        "basin_boundaries.plot();"
      ]
    },
    {
      "cell_type": "markdown",
      "id": "7d601886-c4ba-4056-87b4-a670ce95e447",
      "metadata": {
        "id": "7d601886-c4ba-4056-87b4-a670ce95e447"
      },
      "source": [
        "### (2) 6 basins"
      ]
    },
    {
      "cell_type": "markdown",
      "id": "9c0c6339-5d91-4ef2-b2b6-f3415a15582c",
      "metadata": {
        "id": "9c0c6339-5d91-4ef2-b2b6-f3415a15582c"
      },
      "source": [
        "Reference: http://imbie.org/imbie-3/drainage-basins/"
      ]
    },
    {
      "cell_type": "code",
      "execution_count": null,
      "id": "4179aca6-04f4-45e0-9d90-f823be7d0983",
      "metadata": {
        "id": "4179aca6-04f4-45e0-9d90-f823be7d0983"
      },
      "outputs": [],
      "source": [
        "shp = gp.read_file('/glade/work/ziqiyin/data/GrIS_6basins/GRE_Basins_IMBIE2_v1.3.shp');"
      ]
    },
    {
      "cell_type": "code",
      "execution_count": null,
      "id": "a79f1b44-9d19-46b2-9d6f-aa4b048ebced",
      "metadata": {
        "id": "a79f1b44-9d19-46b2-9d6f-aa4b048ebced",
        "outputId": "038aa169-963a-4594-e077-2350ccda9e1e"
      },
      "outputs": [
        {
          "data": {
            "text/plain": [
              "<Geographic 2D CRS: EPSG:4326>\n",
              "Name: WGS 84\n",
              "Axis Info [ellipsoidal]:\n",
              "- Lat[north]: Geodetic latitude (degree)\n",
              "- Lon[east]: Geodetic longitude (degree)\n",
              "Area of Use:\n",
              "- name: World.\n",
              "- bounds: (-180.0, -90.0, 180.0, 90.0)\n",
              "Datum: World Geodetic System 1984 ensemble\n",
              "- Ellipsoid: WGS 84\n",
              "- Prime Meridian: Greenwich"
            ]
          },
          "execution_count": 26,
          "metadata": {},
          "output_type": "execute_result"
        }
      ],
      "source": [
        "# Read projection info for shapefile\n",
        "shp.crs"
      ]
    },
    {
      "cell_type": "code",
      "execution_count": null,
      "id": "b42f7a15-37fc-4cb3-9fce-73eb924a7873",
      "metadata": {
        "id": "b42f7a15-37fc-4cb3-9fce-73eb924a7873"
      },
      "outputs": [],
      "source": [
        "shp['geometry'][:]"
      ]
    },
    {
      "cell_type": "code",
      "execution_count": null,
      "id": "fa23260c-3b4b-4b93-a7ea-677cfba9dff2",
      "metadata": {
        "id": "fa23260c-3b4b-4b93-a7ea-677cfba9dff2",
        "outputId": "dc5aa9ca-e795-4f3e-e07f-125a96102efb"
      },
      "outputs": [
        {
          "data": {
            "image/png": "[encoded data removed]",
            "text/plain": [
              "<Figure size 432x288 with 1 Axes>"
            ]
          },
          "metadata": {
            "needs_background": "light"
          },
          "output_type": "display_data"
        }
      ],
      "source": [
        "shp.boundary.plot();"
      ]
    },
    {
      "cell_type": "code",
      "execution_count": null,
      "id": "eb161917-2f3f-4999-ab19-7d00bdabee3c",
      "metadata": {
        "id": "eb161917-2f3f-4999-ab19-7d00bdabee3c",
        "outputId": "d0cfd25b-e06d-4cf5-ebdd-a8076928f575"
      },
      "outputs": [
        {
          "data": {
            "image/png": "[encoded data removed]",
            "text/plain": [
              "<Figure size 432x288 with 1 Axes>"
            ]
          },
          "metadata": {
            "needs_background": "light"
          },
          "output_type": "display_data"
        }
      ],
      "source": [
        "shp[(shp.SUBREGION1=='NW')].boundary.plot();"
      ]
    },
    {
      "cell_type": "markdown",
      "source": [
        "## Combining Regional Time-Series"
      ],
      "metadata": {
        "id": "YUudvkQz0L61"
      },
      "id": "YUudvkQz0L61"
    },
    {
      "cell_type": "code",
      "source": [
        "#Loading GBI monthly data\n",
        "df2 = pd.read_csv('/content/Greenland_GBI_SM_combined_JJA_monthly_1979_2021.csv')\n",
        "df2.info()\n",
        "gbi = np.array(df2)[:,3]\n",
        "print(gbi.shape)"
      ],
      "metadata": {
        "colab": {
          "base_uri": "https://localhost:8080/"
        },
        "id": "paHF0Ix003h0",
        "outputId": "cb75d845-e17d-41f7-a220-daf508c1bf8b"
      },
      "id": "paHF0Ix003h0",
      "execution_count": null,
      "outputs": [
        {
          "output_type": "stream",
          "name": "stdout",
          "text": [
            "<class 'pandas.core.frame.DataFrame'>\n",
            "RangeIndex: 129 entries, 0 to 128\n",
            "Data columns (total 5 columns):\n",
            " #   Column       Non-Null Count  Dtype  \n",
            "---  ------       --------------  -----  \n",
            " 0   Temp_200hPa  129 non-null    float64\n",
            " 1   Temp_500hPa  129 non-null    float64\n",
            " 2   Temp_700hPa  129 non-null    float64\n",
            " 3   GBI          129 non-null    float64\n",
            " 4   SM           129 non-null    float64\n",
            "dtypes: float64(5)\n",
            "memory usage: 5.2 KB\n",
            "(129,)\n"
          ]
        }
      ]
    },
    {
      "cell_type": "code",
      "source": [
        "t2m = np.load('ERA5_2mtemp_JJA_1979_2021_se.npy')\n",
        "temp200 = np.load('ERA5_200hPa_JJA_1979_2021_se.npy')\n",
        "temp500 = np.load('ERA5_500hPa_JJA_1979_2021_se.npy')\n",
        "temp700 = np.load('ERA5_700hPa_JJA_1979_2021_se.npy')\n",
        "smlt = np.load('ERA5land_snowmelt_JJA_1979_2021_se.npy')\n",
        "dict={'Temp_2m':t2m,'Temp_200hPa':temp200,'Temp_500hPa':temp500,\\\n",
        "    'Temp_700hPa':temp700,'GBI':gbi,'SMLT':smlt}\n",
        "data_m=pd.DataFrame(dict)\n",
        "data_m.to_csv('GrIS_regional_SE_combined_JJA_monthly_1979_2021.csv',header=True,index=False)"
      ],
      "metadata": {
        "id": "4aPVDRsK0UHe"
      },
      "id": "4aPVDRsK0UHe",
      "execution_count": null,
      "outputs": []
    }
  ],
  "metadata": {
    "kernelspec": {
      "display_name": "my-kernel",
      "language": "python",
      "name": "my-kernel"
    },
    "language_info": {
      "codemirror_mode": {
        "name": "ipython",
        "version": 3
      },
      "file_extension": ".py",
      "mimetype": "text/x-python",
      "name": "python",
      "nbconvert_exporter": "python",
      "pygments_lexer": "ipython3",
      "version": "3.7.12"
    },
    "colab": {
      "provenance": [],
      "collapsed_sections": [
        "dw0O2gCsf8V2"
      ]
    }
  },
  "nbformat": 4,
  "nbformat_minor": 5
}